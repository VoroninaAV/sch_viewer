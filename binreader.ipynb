{
 "cells": [
  {
   "cell_type": "code",
   "execution_count": null,
   "metadata": {},
   "outputs": [],
   "source": [
    "\n",
    "  sm = MySmspec(r'model_1\\PREDICT_445_11_2VAR_VELO_PICK.SMSPEC') #относительный путь к SMSPEC, файлы типа .S0001 и .UNSMRY подгружаются автоматически из той же папки\n",
    "    sm1 = MySmspec(r'C:\\Users\\I_Badryzlov\\Desktop\\BinReader\\model_2\\NETWORK_DEMO.SMSPEC') #абсолютный путь также работает\n",
    "    pd.set_option('display.width', 1000)\n",
    "    pd.set_option('display.max_columns',10)\n",
    "\n",
    "    #get_data возвращает датафрейм со всеми данными\n",
    "    print(sm.get_data) \n",
    "    print(\"=\"*150)\n",
    "    \n",
    "    #get_main возвращает датафрейм пересечения списка KEYWORDS со списком WGNAMES\n",
    "    print(sm.get_main(['WGPR'], ['1011','1012'])) \n",
    "    print(\"=\"*150)\n",
    "    print(sm.get_main(['GPR','GGPR','FGPR'],['FIELD','DKS1','DKS2']))\n",
    "\n",
    "    dates = sm.get_all_dates #список всех дат\n",
    "    keywords = sm.get_all_keywords #список всех уникальных KEYWORDS\n",
    "    regions = sm.get_all_regions #список всех уникальных регионов\n",
    "    wells = sm.get_all_wells #список всех уникальных скважин\n",
    "    aquifers = sm.get_all_aquifers #список всех уникальных аквиферов\n",
    "    groups = sm.get_all_groups #список всех уникальных групп\n",
    "    "
   ]
  }
 ],
 "metadata": {
  "kernelspec": {
   "display_name": "Python 3",
   "language": "python",
   "name": "python3"
  },
  "language_info": {
   "name": "python",
   "version": "3.10.6 (tags/v3.10.6:9c7b4bd, Aug  1 2022, 21:53:49) [MSC v.1932 64 bit (AMD64)]"
  },
  "orig_nbformat": 4,
  "vscode": {
   "interpreter": {
    "hash": "9424d8ede043529b70294f04a23dcad50dcb6cc4e19d8621b7029ddfd15e0126"
   }
  }
 },
 "nbformat": 4,
 "nbformat_minor": 2
}
