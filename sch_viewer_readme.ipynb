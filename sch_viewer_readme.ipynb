{
 "cells": [
  {
   "cell_type": "code",
   "execution_count": 1,
   "metadata": {},
   "outputs": [],
   "source": [
    "from sch_viewer import *\n",
    "\n",
    "# парсин файли модели\n",
    "# path = 'C:/WORK/tNav/tNav_models/initial_model_full/initial_model/NETWORK_DEMO.DATA' \n",
    "\n",
    "path = 'пример/NETWORK_DEMO.DATA' \n",
    "\n",
    "\n",
    "#лучше указывать полный путь \n",
    "parser = tNavigatorModelParser(path)\n",
    "model = parser.build_model() #получает результат типа tNavigatorModel, дальнейшие преобразования нужно выполнять с объектом класса model"
   ]
  },
  {
   "cell_type": "code",
   "execution_count": 2,
   "metadata": {},
   "outputs": [
    {
     "name": "stdout",
     "output_type": "stream",
     "text": [
      "Путь к файлу: \n",
      "Текст кочевого слова:\n",
      "GCONPROD\n",
      "'UKPG-1'\t'GRAT'\t2*\t82521300\t1*\t'RATE'\t1*\t82521300\t'GAS'\t/\n",
      "'UKPG-2'\t'GRAT'\t2*\t68975000\t1*\t'RATE'\t1*\t68975000\t'GAS'\t/\n",
      "'UKPG-3'\t'GRAT'\t2*\t60530800\t1*\t'RATE'\t1*\t60530800\t'GAS'\t/\t\n",
      "/\n"
     ]
    }
   ],
   "source": [
    "# TODO Полина, прочитай это!\n",
    "# в папке, которую я тебе отправила второй раз не было файлов GCONPROD.txt и kw_for_test.txt,\n",
    "# а метод tNavigatorModelParser.read_lines(), если не находит файл, вместо ошибки возвращает пустой список\n",
    "# lines = tNavigatorModelParser.read_lines('model/GCONPROD.txt')\n",
    "# kw.body = lines\n",
    "# метод tNavigator.ic_correct() пока только объявлен (должен быть переопределен в дочерних классах) и всегла возвращал true\n",
    "# вот и получилось ситуация, когда мы в модель добавили GCONPROD c пустым тельцем, которое потом не смогло считаться из Excel\n",
    "\n",
    "\n",
    "# добавить 1 ключевое слово\n",
    "kw = tNavigatorKeyword('GCONPROD')\n",
    "# сичтать данные из текстового файла (для 1 ключевого слова)\n",
    "lines = tNavigatorModelParser.read_lines('пример/GCONPROD.txt')\n",
    "kw.body = lines\n",
    "# добавить в модель. ключевое слово должно быть сформировано ДО добавления в модель\n",
    "print(kw)\n",
    "model.add_keyword(datetime(2012, 4, 2), kw)\n",
    "\n",
    "# в классе tNavigatorModelParser есть метод get_keywords_list который считывает ключевые слова из текстового файла.\n",
    "# возвращает список [] tNavigatorKeyword\n",
    "kw_list = parser.get_keywords_list('пример/kw_for_test.txt')\n",
    "for kw in kw_list:\n",
    "    model.add_keyword(datetime(2016, 4, 2), kw)"
   ]
  },
  {
   "cell_type": "code",
   "execution_count": 3,
   "metadata": {},
   "outputs": [],
   "source": [
    "# преобразование модели в pandas.DataFrame и обратно\n",
    "import pandas as pd\n",
    "\n",
    "df = model.to_dataframe()\n",
    "model.export_to_excel('пример/test2.xlsx')\n",
    "#print(df)\n",
    "\n",
    "# провести с созданым DataFrame необходимые манипуляции\n",
    "val = datetime(2016, 4, 2)\n",
    "df_filtered = df.query('date==@val')\n",
    "\n",
    "model.export_to_excel('пример/test3.xlsx', df_filtered)\n",
    "\n",
    "# добавить в модель ключевые слова из датафрейма\n",
    "model.add_keywords_from_df(df_filtered) \n",
    "\n",
    "# создать модель из pd.DataFrame. Если стартовая дата не указана, то присваивается минимальная дата из датафрейма\n",
    "model.from_dataframe(df)"
   ]
  },
  {
   "cell_type": "code",
   "execution_count": 4,
   "metadata": {},
   "outputs": [],
   "source": [
    "# экспорт\\импорт в MS Excel\n",
    "\n",
    "model.export_to_excel('пример/temp.xlsx')\n",
    "\n",
    "# создается плоская таблица MS Excel, \n",
    "# которую можно отредактировать, добавить\\удалить строки, \n",
    "# а затем снова преодрабовать в модель, либо добавить информацию из Экселя к существующзей модели\n",
    "\n",
    "model.read_from_excel('пример/temp.xlsx') # append=False создать модель из файла, append=True - дописать в модель\n",
    "\n",
    "\n"
   ]
  },
  {
   "cell_type": "code",
   "execution_count": 5,
   "metadata": {},
   "outputs": [
    {
     "name": "stdout",
     "output_type": "stream",
     "text": [
      "2012-02-01 00:00:00\n"
     ]
    }
   ],
   "source": [
    "\n",
    "# создание НОВОЙ модели из \"эксель\"\n",
    "from_excel = tNavigatorModel()\n",
    "from_excel.read_from_excel('пример/temp.xlsx') # append=True\n",
    "print(from_excel.start)\n",
    "from_excel.save_as(f'пример/output/from_excel/NETWORK_DEMO.DATA') \n",
    "\n",
    "# создание НОВОЙ модели из датафрейм\n",
    "from_df = tNavigatorModel()\n",
    "df = from_excel.to_dataframe()\n",
    "from_df.from_dataframe(df)\n",
    "from_df.save_as(f'пример/output/from_df/NETWORK_DEMO.DATA') "
   ]
  },
  {
   "cell_type": "code",
   "execution_count": 6,
   "metadata": {},
   "outputs": [],
   "source": [
    "# сохранение изменений в модели\n",
    "# makebackup=True - делает бекам файлов перед изменением (по умолчанию) makebackup=False - не делает\n",
    "\n",
    "# сохранить как\n",
    "for i in range(10): \n",
    "    model.save_as(f'пример/output/{i}/NETWORK_DEMO.DATA', makebackup=True) \n",
    "\n",
    "# сохранить\n",
    "# model.save(makebackup=True) # недоступен для моделей созданных из экселя и\\или dataFramе (для тех, у которые не указан путь к исходному файлу)"
   ]
  },
  {
   "cell_type": "code",
   "execution_count": 7,
   "metadata": {},
   "outputs": [
    {
     "name": "stdout",
     "output_type": "stream",
     "text": [
      "[<keywords.tNavigatorKeyword object at 0x000002AF85257490>]\n",
      "[]\n"
     ]
    }
   ],
   "source": [
    "# поиск и удаление ключевых слов\n",
    "\n",
    "# возвращает список найденных ключевых слов (keyword и comment - необязательные параметры)\n",
    "finded = model.find_keywords(date=datetime(2012, 4, 2), keyword='GCONPROD')\n",
    "print(finded)\n",
    "\n",
    "# возвращает список удаленные ключевых слов (keyword и comment - необязательные параметры)\n",
    "deleted = model.delete_keywords(date=datetime(2012, 4, 2), keyword='GCONPROD', comment='comment')\n",
    "print(deleted)"
   ]
  }
 ],
 "metadata": {
  "kernelspec": {
   "display_name": "Python 3.10.6 64-bit",
   "language": "python",
   "name": "python3"
  },
  "language_info": {
   "codemirror_mode": {
    "name": "ipython",
    "version": 3
   },
   "file_extension": ".py",
   "mimetype": "text/x-python",
   "name": "python",
   "nbconvert_exporter": "python",
   "pygments_lexer": "ipython3",
   "version": "3.10.6"
  },
  "orig_nbformat": 4,
  "vscode": {
   "interpreter": {
    "hash": "9424d8ede043529b70294f04a23dcad50dcb6cc4e19d8621b7029ddfd15e0126"
   }
  }
 },
 "nbformat": 4,
 "nbformat_minor": 2
}
