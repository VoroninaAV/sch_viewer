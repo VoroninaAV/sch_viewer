{
 "cells": [
  {
   "cell_type": "code",
   "execution_count": 6,
   "metadata": {},
   "outputs": [],
   "source": [
    "from sch_viewer import *\n",
    "\n",
    "# парсин файли модели\n",
    "# path = 'C:/WORK/tNav/tNav_models/initial_model_full/initial_model/NETWORK_DEMO.DATA' \n",
    "\n",
    "path = 'I:/Urengoi/MODEL_GIDRO_I_IV_obj/ALL/URENGOY_ALL.DATA' \n",
    "\n",
    "\n",
    "#лучше указывать полный путь \n",
    "parser = tNavigatorModelParser(path)\n",
    "model = parser.build_model()"
   ]
  },
  {
   "cell_type": "code",
   "execution_count": 7,
   "metadata": {},
   "outputs": [],
   "source": [
    "\n",
    "model.export_to_excel('C:/tmp/URENGOY_ALL.xlsx')\n",
    "\n",
    "model.save_as('C:/tmp/URENGOY_ALL.data')"
   ]
  }
 ],
 "metadata": {
  "kernelspec": {
   "display_name": "Python 3.10.6 64-bit",
   "language": "python",
   "name": "python3"
  },
  "language_info": {
   "codemirror_mode": {
    "name": "ipython",
    "version": 3
   },
   "file_extension": ".py",
   "mimetype": "text/x-python",
   "name": "python",
   "nbconvert_exporter": "python",
   "pygments_lexer": "ipython3",
   "version": "3.10.6"
  },
  "orig_nbformat": 4,
  "vscode": {
   "interpreter": {
    "hash": "9424d8ede043529b70294f04a23dcad50dcb6cc4e19d8621b7029ddfd15e0126"
   }
  }
 },
 "nbformat": 4,
 "nbformat_minor": 2
}
