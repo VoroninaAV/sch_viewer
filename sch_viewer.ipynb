{
 "cells": [
  {
   "cell_type": "code",
   "execution_count": 10,
   "metadata": {},
   "outputs": [],
   "source": [
    "from  sch_viewer.parser import *\n",
    "\n",
    "parser = tNavigatorModelParser()\n",
    "model = parser.build_model(r'C:\\WORK\\tNav\\tNav_models\\test_model\\NETWORK_DEMO.DATA')\n",
    "\n",
    "kw=model.find_keywords(keyword=\"NETCOMPA\")[0]\n",
    "kw.set_body_text(f'{kw.name}\\n{kw.get_body_value_lines()[0]}\\n/')\n",
    "\n",
    "evt={\n",
    "    datetime(2025, 1, 1) : \"'C-15'   'U-2'   'FIELD'  'GAS'  96  100 2* 'PERM'  200  1  /\", \n",
    "    datetime(2026, 1, 1) : \"'C-16'   'U-2'   'FIELD'  'GAS'  96  100 2* 'PERM'  200  1  /\", \n",
    "    datetime(2027, 1, 1) : \"'C-17'   'U-2'   'FIELD'  'GAS'  96  100 2* 'PERM'  200  1  /\"\n",
    "}\n",
    "\n",
    "n=len(evt)\n",
    "for v in range(2**n):\n",
    "    bitstr=format(v, '0{}b'.format(n))\n",
    "    for i, s in enumerate(bitstr):\n",
    "        if s=='1':\n",
    "            nc=tNavigatorKeyword(kw.name)\n",
    "            nc.add_line(kw.name)\n",
    "            nc.add_line(list(evt.values())[i])\n",
    "            nc.add_line('/')\n",
    "            model.add_keyword(list(evt.keys())[i], nc)\n",
    "    model.save_as(f'nc_25-26-27_{bitstr}')\n",
    "    for key in evt.keys():\n",
    "        model.delete_keywords(key, keyword=kw.name)"
   ]
  }
 ],
 "metadata": {
  "kernelspec": {
   "display_name": "Python 3.10.6 64-bit",
   "language": "python",
   "name": "python3"
  },
  "language_info": {
   "codemirror_mode": {
    "name": "ipython",
    "version": 3
   },
   "file_extension": ".py",
   "mimetype": "text/x-python",
   "name": "python",
   "nbconvert_exporter": "python",
   "pygments_lexer": "ipython3",
   "version": "3.10.6"
  },
  "orig_nbformat": 4,
  "vscode": {
   "interpreter": {
    "hash": "9424d8ede043529b70294f04a23dcad50dcb6cc4e19d8621b7029ddfd15e0126"
   }
  }
 },
 "nbformat": 4,
 "nbformat_minor": 2
}
