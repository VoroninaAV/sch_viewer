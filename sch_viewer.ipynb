{
 "cells": [
  {
   "cell_type": "code",
   "execution_count": 1,
   "metadata": {},
   "outputs": [],
   "source": [
    "from tnavparser import *\n",
    "from tnavmodel import *"
   ]
  },
  {
   "cell_type": "code",
   "execution_count": 2,
   "metadata": {},
   "outputs": [],
   "source": [
    "parser = tNavigatorModelParser()\n",
    "model = parser.build_model(r'C:\\WORK\\tNav\\tNav_models\\test_model\\NETWORK_DEMO.DATA')"
   ]
  },
  {
   "cell_type": "code",
   "execution_count": 3,
   "metadata": {},
   "outputs": [],
   "source": [
    "model.export_to_excel(r'C:\\WORK\\temp\\NETWORK_DEMO.xlsx')"
   ]
  },
  {
   "cell_type": "code",
   "execution_count": 4,
   "metadata": {},
   "outputs": [],
   "source": [
    "# model.read_from_excel(r'C:\\WORK\\temp\\NETWORK_DEMO.xlsx')\n",
    "# model.save_as('network_demo_netcompa_2')"
   ]
  },
  {
   "cell_type": "code",
   "execution_count": 6,
   "metadata": {},
   "outputs": [],
   "source": [
    "finded = model.find_keywords(date=datetime(2012, 3, 1), keyword=\"NETCOMPA\")\n",
    "if len(finded)==1:\n",
    "    netcompa = finded[0]\n",
    "    lines = netcompa.get_body_value_lines()\n",
    "    for i, line in enumerate(lines):\n",
    "        if i>0:\n",
    "            deleted = model.delete_keywords(date=datetime(2012, 3, 1), keyword=\"NETCOMPA\")\n",
    "            netcompa.set_body_text(\"NETCOMPA\\n\"+\"\\n\".join(lines[:i])+\"\\n/\\n\")\n",
    "            model.add_keyword(datetime(2012, 3, 1), netcompa)\n",
    "            model.save_as(f'netcompa_{i}')\n",
    "\n",
    "\n",
    "\n"
   ]
  }
 ],
 "metadata": {
  "kernelspec": {
   "display_name": "Python 3.10.6 64-bit",
   "language": "python",
   "name": "python3"
  },
  "language_info": {
   "codemirror_mode": {
    "name": "ipython",
    "version": 3
   },
   "file_extension": ".py",
   "mimetype": "text/x-python",
   "name": "python",
   "nbconvert_exporter": "python",
   "pygments_lexer": "ipython3",
   "version": "3.10.6"
  },
  "orig_nbformat": 4,
  "vscode": {
   "interpreter": {
    "hash": "9424d8ede043529b70294f04a23dcad50dcb6cc4e19d8621b7029ddfd15e0126"
   }
  }
 },
 "nbformat": 4,
 "nbformat_minor": 2
}
