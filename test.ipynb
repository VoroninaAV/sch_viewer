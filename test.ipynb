{
 "cells": [
  {
   "cell_type": "code",
   "execution_count": null,
   "metadata": {},
   "outputs": [],
   "source": [
    "from sch_viewer import *\n",
    "\n",
    "parser = tNavigatorModelParser()\n",
    "model1 = parser.build_model('C:/tmp/models_output/ACHIM_FULL/HIST_01.09.2022.data')\n",
    "model2 = parser.build_model('I:/GDYA/Ach/ГДМ_АН-Ач_01.09/ACHIM_FULL/ACHIM_FULL/FULL/2021_01_24_HIST_2021_01_DETSR_2021/HIST_01.09.2022.DATA')\n",
    "\n"
   ]
  },
  {
   "cell_type": "code",
   "execution_count": null,
   "metadata": {},
   "outputs": [],
   "source": [
    "ach = parser.build_model('I:/GDYA/Ach/ГДМ_АН-Ач_01.09/ACHIM_FULL/ACHIM_FULL/FULL/2021_01_24_HIST_2021_01_DETSR_2021/HIST_01.09.2022.DATA')"
   ]
  },
  {
   "cell_type": "code",
   "execution_count": null,
   "metadata": {},
   "outputs": [],
   "source": [
    "ach.save_as('C:\\\\tmp\\\\ACHIM_FULL\\\\FULL\\\\2021_01_24_HIST_2021_01_DETSR_2021\\\\HIST_01.09.2022.DATA')"
   ]
  },
  {
   "cell_type": "code",
   "execution_count": 6,
   "metadata": {},
   "outputs": [],
   "source": [
    "from sch_viewer import *\n",
    "parser = tNavigatorModelParser()\n",
    "model = parser.build_model('C:/WORK/tNav/tNav_models/Proj_TuronFeb22/predict.data')"
   ]
  },
  {
   "cell_type": "code",
   "execution_count": null,
   "metadata": {},
   "outputs": [],
   "source": [
    "model.save_as('C:/tmp/Proj_TuronFeb22/predict.data')"
   ]
  }
 ],
 "metadata": {
  "kernelspec": {
   "display_name": "Python 3.10.6 64-bit",
   "language": "python",
   "name": "python3"
  },
  "language_info": {
   "codemirror_mode": {
    "name": "ipython",
    "version": 3
   },
   "file_extension": ".py",
   "mimetype": "text/x-python",
   "name": "python",
   "nbconvert_exporter": "python",
   "pygments_lexer": "ipython3",
   "version": "3.10.6"
  },
  "orig_nbformat": 4,
  "vscode": {
   "interpreter": {
    "hash": "9424d8ede043529b70294f04a23dcad50dcb6cc4e19d8621b7029ddfd15e0126"
   }
  }
 },
 "nbformat": 4,
 "nbformat_minor": 2
}
