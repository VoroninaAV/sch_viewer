{
 "cells": [
  {
   "cell_type": "code",
   "execution_count": 2,
   "metadata": {},
   "outputs": [],
   "source": [
    "from sch_viewer import *\n",
    "\n",
    "parser = tNavigatorModelParser()\n",
    "ach = parser.build_model('I:/GDYA/Ach/ГДМ_АН-Ач_01.09/ACHIM_FULL/ACHIM_FULL/FULL/2021_01_24_HIST_2021_01_DETSR_2021/HIST_01.09.2022.DATA')\n",
    "\n"
   ]
  },
  {
   "cell_type": "code",
   "execution_count": 3,
   "metadata": {},
   "outputs": [
    {
     "name": "stdout",
     "output_type": "stream",
     "text": [
      "START: 1996-09-01 00:00:00\n",
      "Кол-во дат: 318\n",
      "Кол-во ключевых слов: 8684\n"
     ]
    }
   ],
   "source": [
    "print(ach)"
   ]
  },
  {
   "cell_type": "code",
   "execution_count": null,
   "metadata": {},
   "outputs": [],
   "source": [
    "ach.save_as('C:\\\\tmp\\\\ACHIM_FULL\\\\FULL\\\\2021_01_24_HIST_2021_01_DETSR_2021\\\\HIST_01.09.2022.DATA')"
   ]
  },
  {
   "cell_type": "code",
   "execution_count": null,
   "metadata": {},
   "outputs": [],
   "source": []
  },
  {
   "cell_type": "code",
   "execution_count": null,
   "metadata": {},
   "outputs": [],
   "source": [
    "float('8.0E-6')"
   ]
  },
  {
   "cell_type": "code",
   "execution_count": null,
   "metadata": {},
   "outputs": [],
   "source": [
    "from sch_viewer import *\n",
    "parser = tNavigatorModelParser()\n",
    "model = parser.build_model('C:/WORK/tNav/tNav_models/Proj_TuronFeb22/predict.data')\n",
    "\n",
    "for wefac in model.find_keywords(keyword='WEFAC'):\n",
    "    df = wefac.get_value()\n",
    "    print((df))\n",
    "\n",
    "\n"
   ]
  },
  {
   "cell_type": "code",
   "execution_count": null,
   "metadata": {},
   "outputs": [],
   "source": [
    "from sch_viewer import *\n",
    "parser = tNavigatorModelParser()\n",
    "network_demo = parser.build_model('C:/WORK/tNav/tNav_models/initial_model_full/initial_model/NETWORK_DEMO.DATA')\n",
    "var1 = parser.build_model('C:/WORK/tNav/tNav_models/model0/Var1/VAR1.DATA')\n",
    "predict = parser.build_model('C:/WORK/tNav/tNav_models/Proj_TuronFeb22/predict.data')\n",
    "model = parser.build_model('C:/WORK/tNav/tNav_models/SpeedTestModel/MODEL.DATA')\n",
    "test_model = parser.build_model('C:/WORK/tNav/tNav_models/test_model/NETWORK_DEMO.DATA')"
   ]
  },
  {
   "cell_type": "code",
   "execution_count": null,
   "metadata": {},
   "outputs": [],
   "source": [
    "print(var1)\n",
    "for wefac in var1.find_keywords(keyword='WEFAC'):\n",
    "    print(wefac.get_value())"
   ]
  }
 ],
 "metadata": {
  "kernelspec": {
   "display_name": "Python 3.10.6 64-bit",
   "language": "python",
   "name": "python3"
  },
  "language_info": {
   "codemirror_mode": {
    "name": "ipython",
    "version": 3
   },
   "file_extension": ".py",
   "mimetype": "text/x-python",
   "name": "python",
   "nbconvert_exporter": "python",
   "pygments_lexer": "ipython3",
   "version": "3.10.6"
  },
  "orig_nbformat": 4,
  "vscode": {
   "interpreter": {
    "hash": "9424d8ede043529b70294f04a23dcad50dcb6cc4e19d8621b7029ddfd15e0126"
   }
  }
 },
 "nbformat": 4,
 "nbformat_minor": 2
}
