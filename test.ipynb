{
 "cells": [
  {
   "cell_type": "code",
   "execution_count": null,
   "metadata": {},
   "outputs": [],
   "source": [
    "from sch_viewer import *\n",
    "parser = tNavigatorModelParser()\n",
    "mod = []\n",
    "# mod.append(parser.build_model('C:/WORK/tNav/tNav_models/initial_model_full/initial_model/NETWORK_DEMO.DATA'))\n",
    "# mod.append(parser.build_model('C:/WORK/tNav/tNav_models/model0/Var1/VAR1.DATA'))\n",
    "mod.append(parser.build_model('C:/WORK/tNav/tNav_models/Proj_TuronFeb22/predict.data'))\n",
    "# mod.append(parser.build_model('C:/WORK/tNav/tNav_models/SpeedTestModel/MODEL.DATA'))\n",
    "# mod.append(parser.build_model('C:/WORK/tNav/tNav_models/test_model/NETWORK_DEMO.DATA'))\n",
    "# mod.append(parser.build_model('I:/GDYA/Ach/ГДМ_АН-Ач_01.09/ACHIM_FULL/ACHIM_FULL/FULL/2021_01_24_HIST_2021_01_DETSR_2021/HIST_01.09.2022.DATA'))\n",
    "\n"
   ]
  },
  {
   "cell_type": "code",
   "execution_count": null,
   "metadata": {},
   "outputs": [],
   "source": [
    "\n",
    "model = mod[-1]\n",
    "fnd = model.find_keywords(datetime(2023, 1,22), keyword='WCONPROD')\n",
    "print(fnd)\n",
    "# files = model.save_as(\"C:/temp/model.data\")\n",
    "# print(files)\n",
    "# for k, v in mod[-1].immutable_files.items():\n",
    "#     print(f'{k} - {v}')\n",
    "\n"
   ]
  },
  {
   "cell_type": "code",
   "execution_count": null,
   "metadata": {},
   "outputs": [],
   "source": []
  },
  {
   "cell_type": "code",
   "execution_count": null,
   "metadata": {},
   "outputs": [],
   "source": [
    "for m in mod:\n",
    "    print(len(m.find_keywords()))\n",
    "    G=m.build_include_graph()\n",
    "    nx.draw(G, nx.layout.planar_layout(G))\n",
    "\n"
   ]
  },
  {
   "cell_type": "code",
   "execution_count": null,
   "metadata": {},
   "outputs": [],
   "source": [
    "\n",
    "G=mod[-1].build_include_graph()"
   ]
  },
  {
   "cell_type": "code",
   "execution_count": null,
   "metadata": {},
   "outputs": [],
   "source": [
    "\n",
    "a = nx.all_simple_paths(G, '/', '..\\Inc\\WCONPROD.inc')\n",
    "for item in a:\n",
    "    print(item)"
   ]
  },
  {
   "cell_type": "code",
   "execution_count": null,
   "metadata": {},
   "outputs": [],
   "source": [
    "graph = mod[-1].build_include_graph()\n",
    "\n",
    "mod[-1].export_to_excel('C:/WORK/tNav/predict.xlsx')\n",
    "\n"
   ]
  },
  {
   "cell_type": "code",
   "execution_count": null,
   "metadata": {},
   "outputs": [],
   "source": [
    "\n",
    "\n"
   ]
  },
  {
   "cell_type": "code",
   "execution_count": null,
   "metadata": {},
   "outputs": [],
   "source": [
    "kw = model.find_keywords(datetime(1996, 10, 1), 'VFPPROD')\n",
    "\n"
   ]
  },
  {
   "cell_type": "code",
   "execution_count": null,
   "metadata": {},
   "outputs": [],
   "source": [
    "len(kw)\n",
    "for k in kw:\n",
    "    if len(k.get_body_text())>32767:\n",
    "        print(k.include_path)\n",
    "        print(len(k.get_body_text()))\n"
   ]
  },
  {
   "cell_type": "code",
   "execution_count": 1,
   "metadata": {},
   "outputs": [],
   "source": [
    "\n",
    "from sch_viewer import *\n",
    "parser = tNavigatorModelParser()\n",
    "model=parser.build_model('I:/GDYA/Ach/ГДМ_АН-Ач_01.09/ACHIM_FULL/ACHIM_FULL/FULL/2021_01_24_HIST_2021_01_DETSR_2021/HIST_01.09.2022.DATA')\n",
    "model.export_to_excel('C:/WORK/tNav/ach1.xlsx')\n",
    "\n",
    "\n"
   ]
  },
  {
   "cell_type": "code",
   "execution_count": 2,
   "metadata": {},
   "outputs": [],
   "source": [
    "model.read_from_excel('C:/WORK/tNav/ach1.xlsx')"
   ]
  },
  {
   "cell_type": "code",
   "execution_count": 3,
   "metadata": {},
   "outputs": [],
   "source": [
    "\n",
    "files = model.save_as(f\"new_model1\")"
   ]
  },
  {
   "cell_type": "code",
   "execution_count": null,
   "metadata": {},
   "outputs": [],
   "source": []
  }
 ],
 "metadata": {
  "kernelspec": {
   "display_name": "Python 3",
   "language": "python",
   "name": "python3"
  },
  "language_info": {
   "codemirror_mode": {
    "name": "ipython",
    "version": 3
   },
   "file_extension": ".py",
   "mimetype": "text/x-python",
   "name": "python",
   "nbconvert_exporter": "python",
   "pygments_lexer": "ipython3",
   "version": "3.10.6"
  },
  "orig_nbformat": 4,
  "vscode": {
   "interpreter": {
    "hash": "9424d8ede043529b70294f04a23dcad50dcb6cc4e19d8621b7029ddfd15e0126"
   }
  }
 },
 "nbformat": 4,
 "nbformat_minor": 2
}
