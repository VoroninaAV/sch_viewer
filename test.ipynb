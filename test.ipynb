{
 "cells": [
  {
   "cell_type": "code",
   "execution_count": 2,
   "metadata": {},
   "outputs": [
    {
     "ename": "ScheduleNotFoundError",
     "evalue": "",
     "output_type": "error",
     "traceback": [
      "\u001b[1;31m---------------------------------------------------------------------------\u001b[0m",
      "\u001b[1;31mScheduleNotFoundError\u001b[0m                     Traceback (most recent call last)",
      "Cell \u001b[1;32mIn [2], line 5\u001b[0m\n\u001b[0;32m      3\u001b[0m parser \u001b[38;5;241m=\u001b[39m tNavigatorModelParser()\n\u001b[0;32m      4\u001b[0m \u001b[38;5;66;03m# model1 = parser.build_model('C:/tmp/ACHIM_FULL/FULL/2021_01_24_HIST_2021_01_DETSR_2021/HIST_01.09.2022.data')\u001b[39;00m\n\u001b[1;32m----> 5\u001b[0m model2 \u001b[38;5;241m=\u001b[39m \u001b[43mparser\u001b[49m\u001b[38;5;241;43m.\u001b[39;49m\u001b[43mbuild_model\u001b[49m\u001b[43m(\u001b[49m\u001b[38;5;124;43m'\u001b[39;49m\u001b[38;5;124;43mI:/GDYA/Ach/ГДМ_АН-Ач_01.09/ACHIM_FULL/ACHIM_FULL/FULL/2021_01_24_HIST_2021_01_DETSR_2021/HIST_01.09.2022.DATA\u001b[39;49m\u001b[38;5;124;43m'\u001b[39;49m\u001b[43m)\u001b[49m\n",
      "File \u001b[1;32mc:\\WORK\\tNav\\sch_viewer\\parser.py:106\u001b[0m, in \u001b[0;36mtNavigatorModelParser.build_model\u001b[1;34m(self, basepath)\u001b[0m\n\u001b[0;32m    104\u001b[0m schedule \u001b[39m=\u001b[39m \u001b[39mself\u001b[39m\u001b[39m.\u001b[39mfind_schedule_section(basepath)\n\u001b[0;32m    105\u001b[0m \u001b[39mif\u001b[39;00m schedule \u001b[39m==\u001b[39m \u001b[39mNone\u001b[39;00m:\n\u001b[1;32m--> 106\u001b[0m     \u001b[39mraise\u001b[39;00m ScheduleNotFoundError \n\u001b[0;32m    107\u001b[0m kwlist \u001b[39m=\u001b[39m \u001b[39mself\u001b[39m\u001b[39m.\u001b[39mparse_schedule_section(schedule[\u001b[39m'\u001b[39m\u001b[39mschedule_lines\u001b[39m\u001b[39m'\u001b[39m]) \n\u001b[0;32m    108\u001b[0m model \u001b[39m=\u001b[39m tNavigatorModel(schedule[\u001b[39m'\u001b[39m\u001b[39mstart\u001b[39m\u001b[39m'\u001b[39m], kwlist, schedule[\u001b[39m'\u001b[39m\u001b[39mfile_with_schedule_section\u001b[39m\u001b[39m'\u001b[39m])  \n",
      "\u001b[1;31mScheduleNotFoundError\u001b[0m: "
     ]
    }
   ],
   "source": [
    "from sch_viewer import *\n",
    "\n",
    "parser = tNavigatorModelParser()\n",
    "# model1 = parser.build_model('C:/tmp/ACHIM_FULL/FULL/2021_01_24_HIST_2021_01_DETSR_2021/HIST_01.09.2022.data')\n",
    "model2 = parser.build_model('I:/GDYA/Ach/ГДМ_АН-Ач_01.09/ACHIM_FULL/ACHIM_FULL/FULL/2021_01_24_HIST_2021_01_DETSR_2021/HIST_01.09.2022.DATA')\n",
    "\n"
   ]
  },
  {
   "cell_type": "code",
   "execution_count": null,
   "metadata": {},
   "outputs": [],
   "source": [
    "ach = parser.build_model('I:/GDYA/Ach/ГДМ_АН-Ач_01.09/ACHIM_FULL/ACHIM_FULL/FULL/2021_01_24_HIST_2021_01_DETSR_2021/HIST_01.09.2022.DATA')"
   ]
  },
  {
   "cell_type": "code",
   "execution_count": null,
   "metadata": {},
   "outputs": [],
   "source": [
    "ach.save_as('C:\\\\tmp\\\\ACHIM_FULL\\\\FULL\\\\2021_01_24_HIST_2021_01_DETSR_2021\\\\HIST_01.09.2022.DATA')"
   ]
  },
  {
   "cell_type": "code",
   "execution_count": null,
   "metadata": {},
   "outputs": [],
   "source": [
    "from sch_viewer import *\n",
    "parser = tNavigatorModelParser()\n",
    "model = parser.build_model('C:/WORK/tNav/tNav_models/Proj_TuronFeb22/predict.data')"
   ]
  },
  {
   "cell_type": "code",
   "execution_count": null,
   "metadata": {},
   "outputs": [],
   "source": [
    "model.save_as('C:/tmp/Proj_TuronFeb22/predict.data')"
   ]
  }
 ],
 "metadata": {
  "kernelspec": {
   "display_name": "Python 3.10.6 64-bit",
   "language": "python",
   "name": "python3"
  },
  "language_info": {
   "codemirror_mode": {
    "name": "ipython",
    "version": 3
   },
   "file_extension": ".py",
   "mimetype": "text/x-python",
   "name": "python",
   "nbconvert_exporter": "python",
   "pygments_lexer": "ipython3",
   "version": "3.10.6"
  },
  "orig_nbformat": 4,
  "vscode": {
   "interpreter": {
    "hash": "9424d8ede043529b70294f04a23dcad50dcb6cc4e19d8621b7029ddfd15e0126"
   }
  }
 },
 "nbformat": 4,
 "nbformat_minor": 2
}
